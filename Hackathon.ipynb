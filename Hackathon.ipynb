{
 "cells": [
  {
   "cell_type": "markdown",
   "metadata": {
    "id": "Kh4kAvnFXcof"
   },
   "source": [
    "# Import Libraries and Load Data"
   ]
  },
  {
   "cell_type": "code",
   "execution_count": 57,
   "metadata": {
    "executionInfo": {
     "elapsed": 1153,
     "status": "ok",
     "timestamp": 1607365251870,
     "user": {
      "displayName": "David Hickman",
      "photoUrl": "https://lh3.googleusercontent.com/a-/AOh14GhJiP2fkIia1x7CpWu7APyqWDP2Ms16wxn5Ol3U7A=s64",
      "userId": "08996584995201837720"
     },
     "user_tz": 360
    },
    "id": "_Rr3-JSh8LNS"
   },
   "outputs": [],
   "source": [
    "import pandas as pd\n",
    "import numpy as np  \n",
    "from scipy import stats\n",
    "\n",
    "# plotting libraries\n",
    "import matplotlib.pyplot as plt\n",
    "import seaborn as sns\n",
    "\n",
    "# configure visualization defaults\n",
    "plt.style.use('fivethirtyeight')\n",
    "%matplotlib inline\n",
    "\n",
    "# ignore warnings\n",
    "import warnings; warnings.simplefilter('ignore')\n",
    "\n",
    "# non-linear models\n",
    "from sklearn.ensemble import RandomForestRegressor, GradientBoostingRegressor, AdaBoostRegressor\n",
    "from sklearn.neighbors import KNeighborsRegressor\n",
    "\n",
    "# linear models\n",
    "from sklearn.linear_model import Ridge, Lasso, ElasticNet, LinearRegression\n",
    "\n",
    "# model helpers\n",
    "from sklearn.model_selection import train_test_split, GridSearchCV, RandomizedSearchCV, cross_val_score\n",
    "from sklearn.preprocessing import StandardScaler, PolynomialFeatures\n",
    "from sklearn.pipeline import make_pipeline\n",
    "\n",
    "# scoring metric\n",
    "from sklearn.metrics import mean_absolute_error\n",
    "\n",
    "# custom function data report\n",
    "from data_report import *"
   ]
  },
  {
   "cell_type": "markdown",
   "metadata": {},
   "source": [
    "#### Load training data"
   ]
  },
  {
   "cell_type": "code",
   "execution_count": 147,
   "metadata": {
    "executionInfo": {
     "elapsed": 7435,
     "status": "ok",
     "timestamp": 1607358959085,
     "user": {
      "displayName": "David Hickman",
      "photoUrl": "https://lh3.googleusercontent.com/a-/AOh14GhJiP2fkIia1x7CpWu7APyqWDP2Ms16wxn5Ol3U7A=s64",
      "userId": "08996584995201837720"
     },
     "user_tz": 360
    },
    "id": "jT-y8kT88-h5"
   },
   "outputs": [],
   "source": [
    "freq_train = pd.read_csv(r\".\\data\\train_data\\frequency_domain_features_train.csv\")\n",
    "hr_train = pd.read_csv(r\".\\data\\train_data\\heart_rate_non_linear_features_train.csv\")\n",
    "time_train = pd.read_csv(r\".\\data\\train_data\\time_domain_features_train.csv\")"
   ]
  },
  {
   "cell_type": "markdown",
   "metadata": {},
   "source": [
    "#### Load test data"
   ]
  },
  {
   "cell_type": "code",
   "execution_count": 150,
   "metadata": {},
   "outputs": [],
   "source": [
    "# import test datasets\n",
    "freq_test = pd.read_csv(r\".\\data\\test_data\\frequency_domain_features_test.csv\")\n",
    "hr_test = pd.read_csv(r\".\\data\\test_data\\heart_rate_non_linear_features_test.csv\")\n",
    "time_test = pd.read_csv(r\".\\data\\test_data\\time_domain_features_test.csv\")"
   ]
  },
  {
   "cell_type": "markdown",
   "metadata": {},
   "source": [
    "#### Merge the datasets "
   ]
  },
  {
   "cell_type": "code",
   "execution_count": 151,
   "metadata": {},
   "outputs": [],
   "source": [
    "train = pd.merge(\n",
    "    pd.merge(freq_train, hr_train, left_on='uuid', right_on='uuid'), \n",
    "    time_train, left_on='uuid', right_on='uuid'\n",
    ")\n",
    "\n",
    "test = pd.merge(\n",
    "    pd.merge(freq_test, hr_test, left_on='uuid', right_on='uuid'),\n",
    "    time_test, left_on='uuid', right_on='uuid'\n",
    ")"
   ]
  },
  {
   "cell_type": "markdown",
   "metadata": {
    "id": "IYhuwyVpXRXT"
   },
   "source": [
    "# EDA"
   ]
  },
  {
   "cell_type": "code",
   "execution_count": 5,
   "metadata": {},
   "outputs": [
    {
     "name": "stdout",
     "output_type": "stream",
     "text": [
      "<class 'pandas.core.frame.DataFrame'>\n",
      "Int64Index: 369289 entries, 0 to 369288\n",
      "Data columns (total 37 columns):\n",
      "uuid                 369289 non-null object\n",
      "VLF                  369289 non-null float64\n",
      "VLF_PCT              369289 non-null float64\n",
      "LF                   369289 non-null float64\n",
      "LF_PCT               369289 non-null float64\n",
      "LF_NU                369289 non-null float64\n",
      "HF                   369289 non-null float64\n",
      "HF_PCT               369289 non-null float64\n",
      "HF_NU                369289 non-null float64\n",
      "TP                   369289 non-null float64\n",
      "LF_HF                369289 non-null float64\n",
      "HF_LF                369289 non-null float64\n",
      "SD1                  369289 non-null float64\n",
      "SD2                  369289 non-null float64\n",
      "sampen               369289 non-null float64\n",
      "higuci               369289 non-null float64\n",
      "datasetId            369289 non-null int64\n",
      "condition            369289 non-null object\n",
      "MEAN_RR              369289 non-null float64\n",
      "MEDIAN_RR            369289 non-null float64\n",
      "SDRR                 369289 non-null float64\n",
      "RMSSD                369289 non-null float64\n",
      "SDSD                 369289 non-null float64\n",
      "SDRR_RMSSD           369289 non-null float64\n",
      "HR                   369289 non-null float64\n",
      "pNN25                369289 non-null float64\n",
      "pNN50                369289 non-null float64\n",
      "KURT                 369289 non-null float64\n",
      "SKEW                 369289 non-null float64\n",
      "MEAN_REL_RR          369289 non-null float64\n",
      "MEDIAN_REL_RR        369289 non-null float64\n",
      "SDRR_REL_RR          369289 non-null float64\n",
      "RMSSD_REL_RR         369289 non-null float64\n",
      "SDSD_REL_RR          369289 non-null float64\n",
      "SDRR_RMSSD_REL_RR    369289 non-null float64\n",
      "KURT_REL_RR          369289 non-null float64\n",
      "SKEW_REL_RR          369289 non-null float64\n",
      "dtypes: float64(34), int64(1), object(2)\n",
      "memory usage: 107.1+ MB\n"
     ]
    }
   ],
   "source": [
    "train.info()"
   ]
  },
  {
   "cell_type": "markdown",
   "metadata": {},
   "source": [
    "All of the features are numeric save for the **uuid** which is the patient identifier and **condition**."
   ]
  },
  {
   "cell_type": "code",
   "execution_count": 152,
   "metadata": {},
   "outputs": [
    {
     "data": {
      "text/plain": [
       "no stress        200082\n",
       "interruption     105150\n",
       "time pressure     64057\n",
       "Name: condition, dtype: int64"
      ]
     },
     "execution_count": 152,
     "metadata": {},
     "output_type": "execute_result"
    }
   ],
   "source": [
    "train.condition.value_counts()"
   ]
  },
  {
   "cell_type": "code",
   "execution_count": 153,
   "metadata": {},
   "outputs": [
    {
     "data": {
      "text/plain": [
       "no stress        22158\n",
       "interruption     11782\n",
       "time pressure     7093\n",
       "Name: condition, dtype: int64"
      ]
     },
     "execution_count": 153,
     "metadata": {},
     "output_type": "execute_result"
    }
   ],
   "source": [
    "test.condition.value_counts()"
   ]
  },
  {
   "cell_type": "markdown",
   "metadata": {},
   "source": [
    "One-hot encoding seems appropriate for this data. Before we proceed, let's visualize the distribution of HR with respect the diffrent levels of this categorical variable."
   ]
  },
  {
   "cell_type": "code",
   "execution_count": 166,
   "metadata": {},
   "outputs": [
    {
     "data": {
      "image/png": "[encoded data removed]",
      "text/plain": [
       "<Figure size 440x432 with 3 Axes>"
      ]
     },
     "metadata": {
      "needs_background": "light"
     },
     "output_type": "display_data"
    }
   ],
   "source": [
    "h = sns.FacetGrid(train, row = 'condition',sharex=True, height=2, aspect=3)\n",
    "h.map(sns.kdeplot, 'HR');\n",
    "h.add_legend();"
   ]
  },
  {
   "cell_type": "markdown",
   "metadata": {},
   "source": [
    "There are some interesting multimodal behavior going in across these distributions. Perhaps we can explore this further."
   ]
  },
  {
   "cell_type": "code",
   "execution_count": 191,
   "metadata": {},
   "outputs": [],
   "source": [
    "onehot_condition_train = pd.get_dummies(train.condition, drop_first=True)\n",
    "onehot_condition_test = pd.get_dummies(test.condition, drop_first=True)\n",
    "\n",
    "# add onehot to train and test and drop condition column\n",
    "train = pd.concat([train,onehot_condition_train], axis=1).drop(columns=['condition'])\n",
    "test = pd.concat([test,onehot_condition_test], axis=1).drop(columns=['condition'])"
   ]
  },
  {
   "cell_type": "markdown",
   "metadata": {},
   "source": [
    "#### Assemble the data quality report"
   ]
  },
  {
   "cell_type": "code",
   "execution_count": 17,
   "metadata": {
    "colab": {
     "base_uri": "https://localhost:8080/",
     "height": 421
    },
    "executionInfo": {
     "elapsed": 947,
     "status": "ok",
     "timestamp": 1607366411539,
     "user": {
      "displayName": "David Hickman",
      "photoUrl": "https://lh3.googleusercontent.com/a-/AOh14GhJiP2fkIia1x7CpWu7APyqWDP2Ms16wxn5Ol3U7A=s64",
      "userId": "08996584995201837720"
     },
     "user_tz": 360
    },
    "id": "xe5UhFQiHeNX",
    "outputId": "5fc7bfdf-e5e3-43bf-b20f-e4f50a8c6340"
   },
   "outputs": [
    {
     "data": {
      "text/html": [
       "<div>\n",
       "<style scoped>\n",
       "    .dataframe tbody tr th:only-of-type {\n",
       "        vertical-align: middle;\n",
       "    }\n",
       "\n",
       "    .dataframe tbody tr th {\n",
       "        vertical-align: top;\n",
       "    }\n",
       "\n",
       "    .dataframe thead th {\n",
       "        text-align: right;\n",
       "    }\n",
       "</style>\n",
       "<table border=\"1\" class=\"dataframe\">\n",
       "  <thead>\n",
       "    <tr style=\"text-align: right;\">\n",
       "      <th></th>\n",
       "      <th>count</th>\n",
       "      <th>% missing</th>\n",
       "      <th>cardinality</th>\n",
       "      <th>mean</th>\n",
       "      <th>std</th>\n",
       "      <th>min</th>\n",
       "      <th>25%</th>\n",
       "      <th>50%</th>\n",
       "      <th>75%</th>\n",
       "      <th>max</th>\n",
       "      <th>skew</th>\n",
       "      <th>kurtosis</th>\n",
       "    </tr>\n",
       "  </thead>\n",
       "  <tbody>\n",
       "    <tr>\n",
       "      <td>VLF</td>\n",
       "      <td>369289.0</td>\n",
       "      <td>0.0</td>\n",
       "      <td>369289</td>\n",
       "      <td>2199.580170</td>\n",
       "      <td>1815.773422</td>\n",
       "      <td>159.480176</td>\n",
       "      <td>1001.189280</td>\n",
       "      <td>1.667903e+03</td>\n",
       "      <td>2654.121052</td>\n",
       "      <td>12617.977191</td>\n",
       "      <td>1.960735</td>\n",
       "      <td>4.493563</td>\n",
       "    </tr>\n",
       "    <tr>\n",
       "      <td>VLF_PCT</td>\n",
       "      <td>369289.0</td>\n",
       "      <td>0.0</td>\n",
       "      <td>369289</td>\n",
       "      <td>64.289242</td>\n",
       "      <td>16.774844</td>\n",
       "      <td>19.031219</td>\n",
       "      <td>52.909877</td>\n",
       "      <td>6.635024e+01</td>\n",
       "      <td>76.825032</td>\n",
       "      <td>97.738848</td>\n",
       "      <td>-0.410836</td>\n",
       "      <td>-0.520971</td>\n",
       "    </tr>\n",
       "    <tr>\n",
       "      <td>LF</td>\n",
       "      <td>369289.0</td>\n",
       "      <td>0.0</td>\n",
       "      <td>369289</td>\n",
       "      <td>946.530252</td>\n",
       "      <td>574.171780</td>\n",
       "      <td>90.048557</td>\n",
       "      <td>545.449386</td>\n",
       "      <td>7.827163e+02</td>\n",
       "      <td>1201.432256</td>\n",
       "      <td>3291.548112</td>\n",
       "      <td>1.349076</td>\n",
       "      <td>1.739223</td>\n",
       "    </tr>\n",
       "    <tr>\n",
       "      <td>LF_PCT</td>\n",
       "      <td>369289.0</td>\n",
       "      <td>0.0</td>\n",
       "      <td>369289</td>\n",
       "      <td>34.095182</td>\n",
       "      <td>16.040290</td>\n",
       "      <td>2.165119</td>\n",
       "      <td>22.305936</td>\n",
       "      <td>3.204703e+01</td>\n",
       "      <td>44.647115</td>\n",
       "      <td>77.928847</td>\n",
       "      <td>0.425164</td>\n",
       "      <td>-0.489052</td>\n",
       "    </tr>\n",
       "    <tr>\n",
       "      <td>LF_NU</td>\n",
       "      <td>369289.0</td>\n",
       "      <td>0.0</td>\n",
       "      <td>369289</td>\n",
       "      <td>95.566718</td>\n",
       "      <td>4.123365</td>\n",
       "      <td>69.879083</td>\n",
       "      <td>93.645734</td>\n",
       "      <td>9.664314e+01</td>\n",
       "      <td>98.771946</td>\n",
       "      <td>99.987175</td>\n",
       "      <td>-1.645603</td>\n",
       "      <td>3.852707</td>\n",
       "    </tr>\n",
       "    <tr>\n",
       "      <td>HF</td>\n",
       "      <td>369289.0</td>\n",
       "      <td>0.0</td>\n",
       "      <td>369289</td>\n",
       "      <td>39.245603</td>\n",
       "      <td>45.398869</td>\n",
       "      <td>0.061783</td>\n",
       "      <td>10.720312</td>\n",
       "      <td>2.484194e+01</td>\n",
       "      <td>45.272368</td>\n",
       "      <td>364.486936</td>\n",
       "      <td>2.476530</td>\n",
       "      <td>7.961637</td>\n",
       "    </tr>\n",
       "    <tr>\n",
       "      <td>HF_PCT</td>\n",
       "      <td>369289.0</td>\n",
       "      <td>0.0</td>\n",
       "      <td>369289</td>\n",
       "      <td>1.615576</td>\n",
       "      <td>1.761073</td>\n",
       "      <td>0.002150</td>\n",
       "      <td>0.346803</td>\n",
       "      <td>1.039513e+00</td>\n",
       "      <td>2.245115</td>\n",
       "      <td>13.095664</td>\n",
       "      <td>2.021882</td>\n",
       "      <td>5.517449</td>\n",
       "    </tr>\n",
       "    <tr>\n",
       "      <td>HF_NU</td>\n",
       "      <td>369289.0</td>\n",
       "      <td>0.0</td>\n",
       "      <td>369289</td>\n",
       "      <td>4.433282</td>\n",
       "      <td>4.123365</td>\n",
       "      <td>0.012825</td>\n",
       "      <td>1.228054</td>\n",
       "      <td>3.356860e+00</td>\n",
       "      <td>6.354266</td>\n",
       "      <td>30.120917</td>\n",
       "      <td>1.645603</td>\n",
       "      <td>3.852707</td>\n",
       "    </tr>\n",
       "    <tr>\n",
       "      <td>TP</td>\n",
       "      <td>369289.0</td>\n",
       "      <td>0.0</td>\n",
       "      <td>369289</td>\n",
       "      <td>3185.356025</td>\n",
       "      <td>1923.227187</td>\n",
       "      <td>377.692795</td>\n",
       "      <td>1828.147788</td>\n",
       "      <td>2.796857e+03</td>\n",
       "      <td>4052.260157</td>\n",
       "      <td>13390.684098</td>\n",
       "      <td>1.452435</td>\n",
       "      <td>2.813712</td>\n",
       "    </tr>\n",
       "    <tr>\n",
       "      <td>LF_HF</td>\n",
       "      <td>369289.0</td>\n",
       "      <td>0.0</td>\n",
       "      <td>369289</td>\n",
       "      <td>115.977200</td>\n",
       "      <td>360.855129</td>\n",
       "      <td>2.319952</td>\n",
       "      <td>14.737458</td>\n",
       "      <td>2.878975e+01</td>\n",
       "      <td>80.429614</td>\n",
       "      <td>7796.443096</td>\n",
       "      <td>9.781091</td>\n",
       "      <td>133.475215</td>\n",
       "    </tr>\n",
       "    <tr>\n",
       "      <td>HF_LF</td>\n",
       "      <td>369289.0</td>\n",
       "      <td>0.0</td>\n",
       "      <td>369289</td>\n",
       "      <td>0.048506</td>\n",
       "      <td>0.049238</td>\n",
       "      <td>0.000128</td>\n",
       "      <td>0.012433</td>\n",
       "      <td>3.473459e-02</td>\n",
       "      <td>0.067854</td>\n",
       "      <td>0.431043</td>\n",
       "      <td>2.159372</td>\n",
       "      <td>7.293165</td>\n",
       "    </tr>\n",
       "    <tr>\n",
       "      <td>SD1</td>\n",
       "      <td>369289.0</td>\n",
       "      <td>0.0</td>\n",
       "      <td>369289</td>\n",
       "      <td>10.593708</td>\n",
       "      <td>2.914795</td>\n",
       "      <td>3.911344</td>\n",
       "      <td>8.368340</td>\n",
       "      <td>1.019662e+01</td>\n",
       "      <td>12.679005</td>\n",
       "      <td>18.836107</td>\n",
       "      <td>0.399668</td>\n",
       "      <td>-0.559551</td>\n",
       "    </tr>\n",
       "    <tr>\n",
       "      <td>SD2</td>\n",
       "      <td>369289.0</td>\n",
       "      <td>0.0</td>\n",
       "      <td>369289</td>\n",
       "      <td>154.178997</td>\n",
       "      <td>109.170222</td>\n",
       "      <td>38.307745</td>\n",
       "      <td>90.326864</td>\n",
       "      <td>1.162211e+02</td>\n",
       "      <td>166.764850</td>\n",
       "      <td>796.852945</td>\n",
       "      <td>2.363386</td>\n",
       "      <td>6.374008</td>\n",
       "    </tr>\n",
       "    <tr>\n",
       "      <td>sampen</td>\n",
       "      <td>369289.0</td>\n",
       "      <td>0.0</td>\n",
       "      <td>82511</td>\n",
       "      <td>2.062471</td>\n",
       "      <td>0.206999</td>\n",
       "      <td>0.434576</td>\n",
       "      <td>2.032977</td>\n",
       "      <td>2.134214e+00</td>\n",
       "      <td>2.181929</td>\n",
       "      <td>2.234841</td>\n",
       "      <td>-3.091012</td>\n",
       "      <td>12.790417</td>\n",
       "    </tr>\n",
       "    <tr>\n",
       "      <td>higuci</td>\n",
       "      <td>369289.0</td>\n",
       "      <td>0.0</td>\n",
       "      <td>369289</td>\n",
       "      <td>1.182292</td>\n",
       "      <td>0.062192</td>\n",
       "      <td>1.033984</td>\n",
       "      <td>1.139929</td>\n",
       "      <td>1.174293e+00</td>\n",
       "      <td>1.223621</td>\n",
       "      <td>1.361219</td>\n",
       "      <td>0.335008</td>\n",
       "      <td>-0.278843</td>\n",
       "    </tr>\n",
       "    <tr>\n",
       "      <td>datasetId</td>\n",
       "      <td>369289.0</td>\n",
       "      <td>0.0</td>\n",
       "      <td>1</td>\n",
       "      <td>2.000000</td>\n",
       "      <td>0.000000</td>\n",
       "      <td>2.000000</td>\n",
       "      <td>2.000000</td>\n",
       "      <td>2.000000e+00</td>\n",
       "      <td>2.000000</td>\n",
       "      <td>2.000000</td>\n",
       "      <td>0.000000</td>\n",
       "      <td>0.000000</td>\n",
       "    </tr>\n",
       "    <tr>\n",
       "      <td>MEAN_RR</td>\n",
       "      <td>369289.0</td>\n",
       "      <td>0.0</td>\n",
       "      <td>369289</td>\n",
       "      <td>846.650104</td>\n",
       "      <td>124.603984</td>\n",
       "      <td>547.492221</td>\n",
       "      <td>760.228533</td>\n",
       "      <td>8.229514e+02</td>\n",
       "      <td>924.117422</td>\n",
       "      <td>1322.016957</td>\n",
       "      <td>0.648000</td>\n",
       "      <td>0.434382</td>\n",
       "    </tr>\n",
       "    <tr>\n",
       "      <td>MEDIAN_RR</td>\n",
       "      <td>369289.0</td>\n",
       "      <td>0.0</td>\n",
       "      <td>106329</td>\n",
       "      <td>841.965890</td>\n",
       "      <td>132.321005</td>\n",
       "      <td>517.293295</td>\n",
       "      <td>755.750735</td>\n",
       "      <td>8.196896e+02</td>\n",
       "      <td>916.821570</td>\n",
       "      <td>1653.122250</td>\n",
       "      <td>0.925513</td>\n",
       "      <td>2.645933</td>\n",
       "    </tr>\n",
       "    <tr>\n",
       "      <td>SDRR</td>\n",
       "      <td>369289.0</td>\n",
       "      <td>0.0</td>\n",
       "      <td>369289</td>\n",
       "      <td>109.352531</td>\n",
       "      <td>77.117025</td>\n",
       "      <td>27.233947</td>\n",
       "      <td>64.205641</td>\n",
       "      <td>8.260824e+01</td>\n",
       "      <td>118.237002</td>\n",
       "      <td>563.486949</td>\n",
       "      <td>2.363789</td>\n",
       "      <td>6.380031</td>\n",
       "    </tr>\n",
       "    <tr>\n",
       "      <td>RMSSD</td>\n",
       "      <td>369289.0</td>\n",
       "      <td>0.0</td>\n",
       "      <td>369289</td>\n",
       "      <td>14.977498</td>\n",
       "      <td>4.120766</td>\n",
       "      <td>5.529742</td>\n",
       "      <td>11.830959</td>\n",
       "      <td>1.441592e+01</td>\n",
       "      <td>17.927144</td>\n",
       "      <td>26.629477</td>\n",
       "      <td>0.399529</td>\n",
       "      <td>-0.559819</td>\n",
       "    </tr>\n",
       "    <tr>\n",
       "      <td>SDSD</td>\n",
       "      <td>369289.0</td>\n",
       "      <td>0.0</td>\n",
       "      <td>369289</td>\n",
       "      <td>14.976767</td>\n",
       "      <td>4.120768</td>\n",
       "      <td>5.529630</td>\n",
       "      <td>11.830671</td>\n",
       "      <td>1.441539e+01</td>\n",
       "      <td>17.924839</td>\n",
       "      <td>26.629392</td>\n",
       "      <td>0.399668</td>\n",
       "      <td>-0.559551</td>\n",
       "    </tr>\n",
       "    <tr>\n",
       "      <td>SDRR_RMSSD</td>\n",
       "      <td>369289.0</td>\n",
       "      <td>0.0</td>\n",
       "      <td>369289</td>\n",
       "      <td>7.396597</td>\n",
       "      <td>5.143834</td>\n",
       "      <td>2.660381</td>\n",
       "      <td>4.541896</td>\n",
       "      <td>5.952112e+00</td>\n",
       "      <td>7.919841</td>\n",
       "      <td>54.523950</td>\n",
       "      <td>3.707939</td>\n",
       "      <td>21.348857</td>\n",
       "    </tr>\n",
       "    <tr>\n",
       "      <td>HR</td>\n",
       "      <td>369289.0</td>\n",
       "      <td>0.0</td>\n",
       "      <td>369289</td>\n",
       "      <td>73.941824</td>\n",
       "      <td>10.337453</td>\n",
       "      <td>48.737243</td>\n",
       "      <td>66.715776</td>\n",
       "      <td>7.421781e+01</td>\n",
       "      <td>80.334937</td>\n",
       "      <td>113.752309</td>\n",
       "      <td>0.411721</td>\n",
       "      <td>0.429828</td>\n",
       "    </tr>\n",
       "    <tr>\n",
       "      <td>pNN25</td>\n",
       "      <td>369289.0</td>\n",
       "      <td>0.0</td>\n",
       "      <td>592</td>\n",
       "      <td>9.841143</td>\n",
       "      <td>8.195574</td>\n",
       "      <td>0.000000</td>\n",
       "      <td>3.666667</td>\n",
       "      <td>7.600000e+00</td>\n",
       "      <td>13.333333</td>\n",
       "      <td>39.400000</td>\n",
       "      <td>1.203114</td>\n",
       "      <td>0.849793</td>\n",
       "    </tr>\n",
       "    <tr>\n",
       "      <td>pNN50</td>\n",
       "      <td>369289.0</td>\n",
       "      <td>0.0</td>\n",
       "      <td>83</td>\n",
       "      <td>0.866001</td>\n",
       "      <td>0.990189</td>\n",
       "      <td>0.000000</td>\n",
       "      <td>0.000000</td>\n",
       "      <td>4.666667e-01</td>\n",
       "      <td>1.466667</td>\n",
       "      <td>5.466667</td>\n",
       "      <td>1.264137</td>\n",
       "      <td>1.025275</td>\n",
       "    </tr>\n",
       "    <tr>\n",
       "      <td>KURT</td>\n",
       "      <td>369289.0</td>\n",
       "      <td>0.0</td>\n",
       "      <td>369289</td>\n",
       "      <td>0.523235</td>\n",
       "      <td>1.790348</td>\n",
       "      <td>-1.894820</td>\n",
       "      <td>-0.352783</td>\n",
       "      <td>4.073622e-02</td>\n",
       "      <td>0.722833</td>\n",
       "      <td>64.088107</td>\n",
       "      <td>5.722209</td>\n",
       "      <td>85.184693</td>\n",
       "    </tr>\n",
       "    <tr>\n",
       "      <td>SKEW</td>\n",
       "      <td>369289.0</td>\n",
       "      <td>0.0</td>\n",
       "      <td>369289</td>\n",
       "      <td>0.041628</td>\n",
       "      <td>0.699522</td>\n",
       "      <td>-2.136278</td>\n",
       "      <td>-0.359291</td>\n",
       "      <td>-6.096592e-02</td>\n",
       "      <td>0.282417</td>\n",
       "      <td>6.777800</td>\n",
       "      <td>1.223005</td>\n",
       "      <td>3.487345</td>\n",
       "    </tr>\n",
       "    <tr>\n",
       "      <td>MEAN_REL_RR</td>\n",
       "      <td>369289.0</td>\n",
       "      <td>0.0</td>\n",
       "      <td>369289</td>\n",
       "      <td>-0.000002</td>\n",
       "      <td>0.000163</td>\n",
       "      <td>-0.001234</td>\n",
       "      <td>-0.000073</td>\n",
       "      <td>-9.330777e-07</td>\n",
       "      <td>0.000069</td>\n",
       "      <td>0.001244</td>\n",
       "      <td>0.112796</td>\n",
       "      <td>5.215669</td>\n",
       "    </tr>\n",
       "    <tr>\n",
       "      <td>MEDIAN_REL_RR</td>\n",
       "      <td>369289.0</td>\n",
       "      <td>0.0</td>\n",
       "      <td>25041</td>\n",
       "      <td>-0.000465</td>\n",
       "      <td>0.000868</td>\n",
       "      <td>-0.004425</td>\n",
       "      <td>-0.000917</td>\n",
       "      <td>-3.116067e-04</td>\n",
       "      <td>0.000131</td>\n",
       "      <td>0.002095</td>\n",
       "      <td>-0.948009</td>\n",
       "      <td>1.269521</td>\n",
       "    </tr>\n",
       "    <tr>\n",
       "      <td>SDRR_REL_RR</td>\n",
       "      <td>369289.0</td>\n",
       "      <td>0.0</td>\n",
       "      <td>369289</td>\n",
       "      <td>0.018571</td>\n",
       "      <td>0.005455</td>\n",
       "      <td>0.008987</td>\n",
       "      <td>0.014261</td>\n",
       "      <td>1.731795e-02</td>\n",
       "      <td>0.021827</td>\n",
       "      <td>0.036571</td>\n",
       "      <td>0.869543</td>\n",
       "      <td>0.186433</td>\n",
       "    </tr>\n",
       "    <tr>\n",
       "      <td>RMSSD_REL_RR</td>\n",
       "      <td>369289.0</td>\n",
       "      <td>0.0</td>\n",
       "      <td>369289</td>\n",
       "      <td>0.009701</td>\n",
       "      <td>0.003897</td>\n",
       "      <td>0.003220</td>\n",
       "      <td>0.006984</td>\n",
       "      <td>8.690833e-03</td>\n",
       "      <td>0.011460</td>\n",
       "      <td>0.026955</td>\n",
       "      <td>1.258784</td>\n",
       "      <td>1.434218</td>\n",
       "    </tr>\n",
       "    <tr>\n",
       "      <td>SDSD_REL_RR</td>\n",
       "      <td>369289.0</td>\n",
       "      <td>0.0</td>\n",
       "      <td>369289</td>\n",
       "      <td>0.009701</td>\n",
       "      <td>0.003897</td>\n",
       "      <td>0.003220</td>\n",
       "      <td>0.006984</td>\n",
       "      <td>8.690797e-03</td>\n",
       "      <td>0.011460</td>\n",
       "      <td>0.026955</td>\n",
       "      <td>1.258784</td>\n",
       "      <td>1.434221</td>\n",
       "    </tr>\n",
       "    <tr>\n",
       "      <td>SDRR_RMSSD_REL_RR</td>\n",
       "      <td>369289.0</td>\n",
       "      <td>0.0</td>\n",
       "      <td>369289</td>\n",
       "      <td>2.006817</td>\n",
       "      <td>0.375845</td>\n",
       "      <td>1.169342</td>\n",
       "      <td>1.749801</td>\n",
       "      <td>1.934416e+00</td>\n",
       "      <td>2.221232</td>\n",
       "      <td>3.724134</td>\n",
       "      <td>0.838587</td>\n",
       "      <td>0.837470</td>\n",
       "    </tr>\n",
       "    <tr>\n",
       "      <td>KURT_REL_RR</td>\n",
       "      <td>369289.0</td>\n",
       "      <td>0.0</td>\n",
       "      <td>369289</td>\n",
       "      <td>0.523235</td>\n",
       "      <td>1.790348</td>\n",
       "      <td>-1.894820</td>\n",
       "      <td>-0.352783</td>\n",
       "      <td>4.073622e-02</td>\n",
       "      <td>0.722833</td>\n",
       "      <td>64.088107</td>\n",
       "      <td>5.722209</td>\n",
       "      <td>85.184693</td>\n",
       "    </tr>\n",
       "    <tr>\n",
       "      <td>SKEW_REL_RR</td>\n",
       "      <td>369289.0</td>\n",
       "      <td>0.0</td>\n",
       "      <td>369289</td>\n",
       "      <td>0.041628</td>\n",
       "      <td>0.699522</td>\n",
       "      <td>-2.136278</td>\n",
       "      <td>-0.359291</td>\n",
       "      <td>-6.096592e-02</td>\n",
       "      <td>0.282417</td>\n",
       "      <td>6.777800</td>\n",
       "      <td>1.223005</td>\n",
       "      <td>3.487345</td>\n",
       "    </tr>\n",
       "    <tr>\n",
       "      <td>no stress</td>\n",
       "      <td>369289.0</td>\n",
       "      <td>0.0</td>\n",
       "      <td>2</td>\n",
       "      <td>0.541803</td>\n",
       "      <td>0.498250</td>\n",
       "      <td>0.000000</td>\n",
       "      <td>0.000000</td>\n",
       "      <td>1.000000e+00</td>\n",
       "      <td>1.000000</td>\n",
       "      <td>1.000000</td>\n",
       "      <td>-0.167801</td>\n",
       "      <td>-1.971853</td>\n",
       "    </tr>\n",
       "    <tr>\n",
       "      <td>time pressure</td>\n",
       "      <td>369289.0</td>\n",
       "      <td>0.0</td>\n",
       "      <td>2</td>\n",
       "      <td>0.173460</td>\n",
       "      <td>0.378645</td>\n",
       "      <td>0.000000</td>\n",
       "      <td>0.000000</td>\n",
       "      <td>0.000000e+00</td>\n",
       "      <td>0.000000</td>\n",
       "      <td>1.000000</td>\n",
       "      <td>1.724788</td>\n",
       "      <td>0.974899</td>\n",
       "    </tr>\n",
       "  </tbody>\n",
       "</table>\n",
       "</div>"
      ],
      "text/plain": [
       "                      count  % missing  cardinality         mean          std  \\\n",
       "VLF                369289.0        0.0       369289  2199.580170  1815.773422   \n",
       "VLF_PCT            369289.0        0.0       369289    64.289242    16.774844   \n",
       "LF                 369289.0        0.0       369289   946.530252   574.171780   \n",
       "LF_PCT             369289.0        0.0       369289    34.095182    16.040290   \n",
       "LF_NU              369289.0        0.0       369289    95.566718     4.123365   \n",
       "HF                 369289.0        0.0       369289    39.245603    45.398869   \n",
       "HF_PCT             369289.0        0.0       369289     1.615576     1.761073   \n",
       "HF_NU              369289.0        0.0       369289     4.433282     4.123365   \n",
       "TP                 369289.0        0.0       369289  3185.356025  1923.227187   \n",
       "LF_HF              369289.0        0.0       369289   115.977200   360.855129   \n",
       "HF_LF              369289.0        0.0       369289     0.048506     0.049238   \n",
       "SD1                369289.0        0.0       369289    10.593708     2.914795   \n",
       "SD2                369289.0        0.0       369289   154.178997   109.170222   \n",
       "sampen             369289.0        0.0        82511     2.062471     0.206999   \n",
       "higuci             369289.0        0.0       369289     1.182292     0.062192   \n",
       "datasetId          369289.0        0.0            1     2.000000     0.000000   \n",
       "MEAN_RR            369289.0        0.0       369289   846.650104   124.603984   \n",
       "MEDIAN_RR          369289.0        0.0       106329   841.965890   132.321005   \n",
       "SDRR               369289.0        0.0       369289   109.352531    77.117025   \n",
       "RMSSD              369289.0        0.0       369289    14.977498     4.120766   \n",
       "SDSD               369289.0        0.0       369289    14.976767     4.120768   \n",
       "SDRR_RMSSD         369289.0        0.0       369289     7.396597     5.143834   \n",
       "HR                 369289.0        0.0       369289    73.941824    10.337453   \n",
       "pNN25              369289.0        0.0          592     9.841143     8.195574   \n",
       "pNN50              369289.0        0.0           83     0.866001     0.990189   \n",
       "KURT               369289.0        0.0       369289     0.523235     1.790348   \n",
       "SKEW               369289.0        0.0       369289     0.041628     0.699522   \n",
       "MEAN_REL_RR        369289.0        0.0       369289    -0.000002     0.000163   \n",
       "MEDIAN_REL_RR      369289.0        0.0        25041    -0.000465     0.000868   \n",
       "SDRR_REL_RR        369289.0        0.0       369289     0.018571     0.005455   \n",
       "RMSSD_REL_RR       369289.0        0.0       369289     0.009701     0.003897   \n",
       "SDSD_REL_RR        369289.0        0.0       369289     0.009701     0.003897   \n",
       "SDRR_RMSSD_REL_RR  369289.0        0.0       369289     2.006817     0.375845   \n",
       "KURT_REL_RR        369289.0        0.0       369289     0.523235     1.790348   \n",
       "SKEW_REL_RR        369289.0        0.0       369289     0.041628     0.699522   \n",
       "no stress          369289.0        0.0            2     0.541803     0.498250   \n",
       "time pressure      369289.0        0.0            2     0.173460     0.378645   \n",
       "\n",
       "                          min          25%           50%          75%  \\\n",
       "VLF                159.480176  1001.189280  1.667903e+03  2654.121052   \n",
       "VLF_PCT             19.031219    52.909877  6.635024e+01    76.825032   \n",
       "LF                  90.048557   545.449386  7.827163e+02  1201.432256   \n",
       "LF_PCT               2.165119    22.305936  3.204703e+01    44.647115   \n",
       "LF_NU               69.879083    93.645734  9.664314e+01    98.771946   \n",
       "HF                   0.061783    10.720312  2.484194e+01    45.272368   \n",
       "HF_PCT               0.002150     0.346803  1.039513e+00     2.245115   \n",
       "HF_NU                0.012825     1.228054  3.356860e+00     6.354266   \n",
       "TP                 377.692795  1828.147788  2.796857e+03  4052.260157   \n",
       "LF_HF                2.319952    14.737458  2.878975e+01    80.429614   \n",
       "HF_LF                0.000128     0.012433  3.473459e-02     0.067854   \n",
       "SD1                  3.911344     8.368340  1.019662e+01    12.679005   \n",
       "SD2                 38.307745    90.326864  1.162211e+02   166.764850   \n",
       "sampen               0.434576     2.032977  2.134214e+00     2.181929   \n",
       "higuci               1.033984     1.139929  1.174293e+00     1.223621   \n",
       "datasetId            2.000000     2.000000  2.000000e+00     2.000000   \n",
       "MEAN_RR            547.492221   760.228533  8.229514e+02   924.117422   \n",
       "MEDIAN_RR          517.293295   755.750735  8.196896e+02   916.821570   \n",
       "SDRR                27.233947    64.205641  8.260824e+01   118.237002   \n",
       "RMSSD                5.529742    11.830959  1.441592e+01    17.927144   \n",
       "SDSD                 5.529630    11.830671  1.441539e+01    17.924839   \n",
       "SDRR_RMSSD           2.660381     4.541896  5.952112e+00     7.919841   \n",
       "HR                  48.737243    66.715776  7.421781e+01    80.334937   \n",
       "pNN25                0.000000     3.666667  7.600000e+00    13.333333   \n",
       "pNN50                0.000000     0.000000  4.666667e-01     1.466667   \n",
       "KURT                -1.894820    -0.352783  4.073622e-02     0.722833   \n",
       "SKEW                -2.136278    -0.359291 -6.096592e-02     0.282417   \n",
       "MEAN_REL_RR         -0.001234    -0.000073 -9.330777e-07     0.000069   \n",
       "MEDIAN_REL_RR       -0.004425    -0.000917 -3.116067e-04     0.000131   \n",
       "SDRR_REL_RR          0.008987     0.014261  1.731795e-02     0.021827   \n",
       "RMSSD_REL_RR         0.003220     0.006984  8.690833e-03     0.011460   \n",
       "SDSD_REL_RR          0.003220     0.006984  8.690797e-03     0.011460   \n",
       "SDRR_RMSSD_REL_RR    1.169342     1.749801  1.934416e+00     2.221232   \n",
       "KURT_REL_RR         -1.894820    -0.352783  4.073622e-02     0.722833   \n",
       "SKEW_REL_RR         -2.136278    -0.359291 -6.096592e-02     0.282417   \n",
       "no stress            0.000000     0.000000  1.000000e+00     1.000000   \n",
       "time pressure        0.000000     0.000000  0.000000e+00     0.000000   \n",
       "\n",
       "                            max      skew    kurtosis  \n",
       "VLF                12617.977191  1.960735    4.493563  \n",
       "VLF_PCT               97.738848 -0.410836   -0.520971  \n",
       "LF                  3291.548112  1.349076    1.739223  \n",
       "LF_PCT                77.928847  0.425164   -0.489052  \n",
       "LF_NU                 99.987175 -1.645603    3.852707  \n",
       "HF                   364.486936  2.476530    7.961637  \n",
       "HF_PCT                13.095664  2.021882    5.517449  \n",
       "HF_NU                 30.120917  1.645603    3.852707  \n",
       "TP                 13390.684098  1.452435    2.813712  \n",
       "LF_HF               7796.443096  9.781091  133.475215  \n",
       "HF_LF                  0.431043  2.159372    7.293165  \n",
       "SD1                   18.836107  0.399668   -0.559551  \n",
       "SD2                  796.852945  2.363386    6.374008  \n",
       "sampen                 2.234841 -3.091012   12.790417  \n",
       "higuci                 1.361219  0.335008   -0.278843  \n",
       "datasetId              2.000000  0.000000    0.000000  \n",
       "MEAN_RR             1322.016957  0.648000    0.434382  \n",
       "MEDIAN_RR           1653.122250  0.925513    2.645933  \n",
       "SDRR                 563.486949  2.363789    6.380031  \n",
       "RMSSD                 26.629477  0.399529   -0.559819  \n",
       "SDSD                  26.629392  0.399668   -0.559551  \n",
       "SDRR_RMSSD            54.523950  3.707939   21.348857  \n",
       "HR                   113.752309  0.411721    0.429828  \n",
       "pNN25                 39.400000  1.203114    0.849793  \n",
       "pNN50                  5.466667  1.264137    1.025275  \n",
       "KURT                  64.088107  5.722209   85.184693  \n",
       "SKEW                   6.777800  1.223005    3.487345  \n",
       "MEAN_REL_RR            0.001244  0.112796    5.215669  \n",
       "MEDIAN_REL_RR          0.002095 -0.948009    1.269521  \n",
       "SDRR_REL_RR            0.036571  0.869543    0.186433  \n",
       "RMSSD_REL_RR           0.026955  1.258784    1.434218  \n",
       "SDSD_REL_RR            0.026955  1.258784    1.434221  \n",
       "SDRR_RMSSD_REL_RR      3.724134  0.838587    0.837470  \n",
       "KURT_REL_RR           64.088107  5.722209   85.184693  \n",
       "SKEW_REL_RR            6.777800  1.223005    3.487345  \n",
       "no stress              1.000000 -0.167801   -1.971853  \n",
       "time pressure          1.000000  1.724788    0.974899  "
      ]
     },
     "execution_count": 17,
     "metadata": {},
     "output_type": "execute_result"
    }
   ],
   "source": [
    "data_report(train.loc[:,'VLF':])"
   ]
  },
  {
   "cell_type": "markdown",
   "metadata": {},
   "source": [
    "- No missing values\n",
    "- **datasetid** can be dropped\n",
    "- several features are exhibiting high levels of skewness\n",
    "\n"
   ]
  },
  {
   "cell_type": "code",
   "execution_count": 19,
   "metadata": {},
   "outputs": [],
   "source": [
    "# dropping datasetid\n",
    "train.drop(columns=['datasetId'], inplace=True)"
   ]
  },
  {
   "cell_type": "markdown",
   "metadata": {
    "id": "Zd7XMyHLU_tq"
   },
   "source": [
    "As a rule of thumb skewed data whose ratio of the maximum to the minimum value is greater than 20 exhibits significant skewness. We should apply a transformation to these variables where we can. These features are listed below:"
   ]
  },
  {
   "cell_type": "code",
   "execution_count": 20,
   "metadata": {
    "colab": {
     "base_uri": "https://localhost:8080/"
    },
    "executionInfo": {
     "elapsed": 818,
     "status": "ok",
     "timestamp": 1607366426940,
     "user": {
      "displayName": "David Hickman",
      "photoUrl": "https://lh3.googleusercontent.com/a-/AOh14GhJiP2fkIia1x7CpWu7APyqWDP2Ms16wxn5Ol3U7A=s64",
      "userId": "08996584995201837720"
     },
     "user_tz": 360
    },
    "id": "tYdwiKeWaYBa",
    "outputId": "50c0e150-b9cc-4122-d0a7-40d0db7f6a59"
   },
   "outputs": [
    {
     "name": "stdout",
     "output_type": "stream",
     "text": [
      "['VLF' 'LF' 'LF_PCT' 'HF' 'HF_PCT' 'HF_NU' 'TP' 'LF_HF' 'HF_LF' 'SD2'\n",
      " 'SDRR' 'SDRR_RMSSD' 'pNN25' 'pNN50' 'no stress' 'time pressure']\n"
     ]
    }
   ],
   "source": [
    "max_min_ratio = train.describe().T['max']/train.describe().T['min']\n",
    "\n",
    "need_to_transform = max_min_ratio[max_min_ratio >= 20].index.values\n",
    "\n",
    "print(need_to_transform)"
   ]
  },
  {
   "cell_type": "code",
   "execution_count": 34,
   "metadata": {
    "colab": {
     "base_uri": "https://localhost:8080/",
     "height": 484
    },
    "executionInfo": {
     "elapsed": 2309,
     "status": "ok",
     "timestamp": 1607366435519,
     "user": {
      "displayName": "David Hickman",
      "photoUrl": "https://lh3.googleusercontent.com/a-/AOh14GhJiP2fkIia1x7CpWu7APyqWDP2Ms16wxn5Ol3U7A=s64",
      "userId": "08996584995201837720"
     },
     "user_tz": 360
    },
    "id": "UWy8fkpcecMu",
    "outputId": "ffed6b36-6a51-4c4d-c358-42c905e07410"
   },
   "outputs": [
    {
     "data": {
      "image/png": "[encoded data removed]",
      "text/plain": [
       "<Figure size 1152x864 with 2 Axes>"
      ]
     },
     "metadata": {
      "needs_background": "light"
     },
     "output_type": "display_data"
    }
   ],
   "source": [
    "corr = train.corr()\n",
    "plt.figure(figsize=(16,12))\n",
    "sns.heatmap(corr, cmap='YlGnBu');"
   ]
  },
  {
   "cell_type": "markdown",
   "metadata": {},
   "source": [
    "Sorted correlations with respect to HR"
   ]
  },
  {
   "cell_type": "code",
   "execution_count": 102,
   "metadata": {},
   "outputs": [
    {
     "data": {
      "text/plain": [
       "MEAN_RR             -0.944552\n",
       "MEDIAN_RR           -0.929640\n",
       "LF_NU               -0.724268\n",
       "SDRR_RMSSD_REL_RR   -0.675554\n",
       "LF_HF               -0.404740\n",
       "sampen              -0.307587\n",
       "VLF                 -0.304568\n",
       "TP                  -0.301295\n",
       "RMSSD               -0.284871\n",
       "SD1                 -0.284863\n",
       "SDSD                -0.284863\n",
       "time pressure       -0.273782\n",
       "pNN25               -0.262903\n",
       "VLF_PCT             -0.254543\n",
       "SDRR                -0.202327\n",
       "SD2                 -0.202003\n",
       "pNN50               -0.114896\n",
       "LF                  -0.097228\n",
       "SDRR_RMSSD          -0.084332\n",
       "MEAN_REL_RR          0.017776\n",
       "MEDIAN_REL_RR        0.054649\n",
       "LF_PCT               0.194131\n",
       "SDRR_REL_RR          0.234557\n",
       "no stress            0.295296\n",
       "KURT_REL_RR          0.303671\n",
       "KURT                 0.303671\n",
       "SKEW_REL_RR          0.306402\n",
       "SKEW                 0.306402\n",
       "higuci               0.420932\n",
       "RMSSD_REL_RR         0.499867\n",
       "SDSD_REL_RR          0.499867\n",
       "HF                   0.647427\n",
       "HF_PCT               0.656421\n",
       "HF_LF                0.701864\n",
       "HF_NU                0.724268\n",
       "HR                   1.000000\n",
       "Name: HR, dtype: float64"
      ]
     },
     "execution_count": 102,
     "metadata": {},
     "output_type": "execute_result"
    }
   ],
   "source": [
    "corr.HR.sort_values()"
   ]
  },
  {
   "cell_type": "code",
   "execution_count": 169,
   "metadata": {},
   "outputs": [],
   "source": [
    "poly_features = PolynomialFeatures(degree=2)\n",
    "X_poly = poly_features.fit_transform(np.array(train.MEAN_RR).reshape(-1,1))"
   ]
  },
  {
   "cell_type": "code",
   "execution_count": 96,
   "metadata": {},
   "outputs": [],
   "source": [
    "# Initialize Linear Regression Model\n",
    "lin_reg = LinearRegression()\n",
    "\n",
    "# Fit model on the polynomial feature X_poly\n",
    "lin_reg.fit(mean_RR_poly,train.HR)\n",
    "\n",
    "# predict\n",
    "predicted_HR = lin_reg.predict(mean_RR_poly)"
   ]
  },
  {
   "cell_type": "code",
   "execution_count": 171,
   "metadata": {},
   "outputs": [
    {
     "data": {
      "image/png": "[encoded data removed]",
      "text/plain": [
       "<Figure size 432x288 with 1 Axes>"
      ]
     },
     "metadata": {
      "needs_background": "light"
     },
     "output_type": "display_data"
    }
   ],
   "source": [
    "sns.scatterplot(data=train, x='MEAN_RR', y='HR', hue='HF_PCT', palette= 'YlGnBu', alpha=0.7);\n",
    "sns.lineplot(x=train.MEAN_RR, y=predicted_HR, linewidth=1.5, color='red');"
   ]
  },
  {
   "cell_type": "markdown",
   "metadata": {},
   "source": [
    "Most of the higher HRs are characterized by larger values of **HF_PCT**. Later I will add the polynomial terms to the train set and see if we get a boost in performance."
   ]
  },
  {
   "cell_type": "markdown",
   "metadata": {},
   "source": [
    "# Preprocessing\n",
    "\n",
    "#### Actions Items:\n",
    "1. Transformations (box-cox, log, etc)\n",
    "2. Feature Selection \n",
    "    - Filter method using Pearson correlation\n",
    "    - Wrapper methods like forward search. Sklearn has a [feature selection](https://scikit-learn.org/stable/modules/feature_selection.html) library we can use "
   ]
  },
  {
   "cell_type": "code",
   "execution_count": 144,
   "metadata": {},
   "outputs": [],
   "source": [
    "# create input feature array\n",
    "X = train.drop(columns=['HR','uuid'])\n",
    "\n",
    "# create prediction labels\n",
    "y = train['HR']\n",
    "\n",
    "# 70:30 test train split\n",
    "X_train, X_test, y_train, y_test = train_test_split(X, y, test_size=0.30, random_state=1)"
   ]
  },
  {
   "cell_type": "markdown",
   "metadata": {},
   "source": [
    "# Random Forest"
   ]
  },
  {
   "cell_type": "code",
   "execution_count": 145,
   "metadata": {},
   "outputs": [
    {
     "data": {
      "text/plain": [
       "0.00794324170364555"
      ]
     },
     "execution_count": 145,
     "metadata": {},
     "output_type": "execute_result"
    }
   ],
   "source": [
    "# Initialize model\n",
    "rf_reg = RandomForestRegressor(random_state=1, n_jobs=-1)\n",
    "\n",
    "# fit \n",
    "rf_reg.fit(X_train, y_train)\n",
    "\n",
    "# predict\n",
    "y_pred = rf_reg.predict(X_test)\n"
   ]
  },
  {
   "cell_type": "code",
   "execution_count": 172,
   "metadata": {},
   "outputs": [
    {
     "name": "stdout",
     "output_type": "stream",
     "text": [
      "MAE = 0.00794324170364555\n"
     ]
    }
   ],
   "source": [
    "# MAE\n",
    "print(\"MAE = {}\".format(mean_absolute_error(y_pred, y_test)))"
   ]
  },
  {
   "cell_type": "markdown",
   "metadata": {},
   "source": [
    "This result is cause for optimism since we have not performed any feature selection nor preprocessing, and yet we are just falling short of the best models submitted so far which are scoring around 0.0014. "
   ]
  },
  {
   "cell_type": "code",
   "execution_count": 146,
   "metadata": {},
   "outputs": [
    {
     "data": {
      "image/png": "[encoded data removed]",
      "text/plain": [
       "<Figure size 432x288 with 1 Axes>"
      ]
     },
     "metadata": {
      "needs_background": "light"
     },
     "output_type": "display_data"
    }
   ],
   "source": [
    "# feature importances from random forest model\n",
    "importances = rf_reg.feature_importances_\n",
    "\n",
    "# index of greatest to least features importances\n",
    "sorted_index = np.argsort(importances)[::-1][:4]\n",
    "x = range(len(sorted_index))\n",
    "\n",
    "# create labels\n",
    "# feature_names = poly_features.get_feature_names(X.columns)\n",
    "feature_names = X.columns\n",
    "labels = np.array(feature_names)[sorted_index]\n",
    "\n",
    "# compute cumulative importances\n",
    "cum_importance = np.cumsum(importances[sorted_index])\n",
    "\n",
    "plt.bar(x, importances[sorted_index], tick_label=labels)\n",
    "plt.plot(cum_importance, c='black', linewidth=2, marker='o', label='Cumulative Importance')\n",
    "plt.xticks(rotation=90)\n",
    "plt.ylabel(\"Feature Importance\")\n",
    "plt.legend(shadow=True, loc='center right')\n",
    "plt.show()"
   ]
  },
  {
   "cell_type": "markdown",
   "metadata": {},
   "source": [
    "**MEDIAN_RR** and **MEAN_RR** are the most important features wrt the random forest model. These features are highly correlated"
   ]
  },
  {
   "cell_type": "code",
   "execution_count": 175,
   "metadata": {},
   "outputs": [
    {
     "data": {
      "text/plain": [
       "0.9609491736076226"
      ]
     },
     "execution_count": 175,
     "metadata": {},
     "output_type": "execute_result"
    }
   ],
   "source": [
    "corr['MEDIAN_RR']['MEAN_RR']"
   ]
  },
  {
   "cell_type": "markdown",
   "metadata": {},
   "source": [
    "Let's add in the polynomial features and see what we get in terms of better performance"
   ]
  },
  {
   "cell_type": "code",
   "execution_count": 185,
   "metadata": {},
   "outputs": [],
   "source": [
    "poly_features = PolynomialFeatures(degree=2, include_bias=False)\n",
    "X_poly = poly_features.fit_transform(train[['MEDIAN_RR','HF_PCT']])"
   ]
  },
  {
   "cell_type": "code",
   "execution_count": 187,
   "metadata": {},
   "outputs": [],
   "source": [
    "poly_cols = poly_features.get_feature_names(train[['MEDIAN_RR','HF_PCT']].columns)\n",
    "poly_df = pd.DataFrame(X_poly, columns=poly_cols)"
   ]
  },
  {
   "cell_type": "code",
   "execution_count": 192,
   "metadata": {},
   "outputs": [],
   "source": [
    "train_poly = pd.concat([train,poly_df], axis=1)"
   ]
  },
  {
   "cell_type": "code",
   "execution_count": 193,
   "metadata": {},
   "outputs": [],
   "source": [
    "# create input feature array\n",
    "X = train_poly.drop(columns=['HR','uuid'])\n",
    "\n",
    "# create prediction labels\n",
    "y = train_poly['HR']\n",
    "\n",
    "# 70:30 test train split\n",
    "X_train, X_test, y_train, y_test = train_test_split(X, y, test_size=0.30, random_state=1)"
   ]
  },
  {
   "cell_type": "code",
   "execution_count": 194,
   "metadata": {},
   "outputs": [],
   "source": [
    "# Initialize model\n",
    "rf_reg = RandomForestRegressor(random_state=1, n_jobs=-1)\n",
    "\n",
    "# fit \n",
    "rf_reg.fit(X_train, y_train)\n",
    "\n",
    "# predict\n",
    "y_pred = rf_reg.predict(X_test)"
   ]
  },
  {
   "cell_type": "code",
   "execution_count": 195,
   "metadata": {},
   "outputs": [
    {
     "name": "stdout",
     "output_type": "stream",
     "text": [
      "MAE w/ poly features = 0.007928898771914574\n"
     ]
    }
   ],
   "source": [
    "# MAE\n",
    "print(\"MAE w/ poly features = {}\".format(mean_absolute_error(y_pred, y_test)))"
   ]
  },
  {
   "cell_type": "markdown",
   "metadata": {},
   "source": [
    "This didn't buy us much."
   ]
  },
  {
   "cell_type": "code",
   "execution_count": 197,
   "metadata": {},
   "outputs": [
    {
     "data": {
      "image/png": "[encoded data removed]",
      "text/plain": [
       "<Figure size 432x288 with 1 Axes>"
      ]
     },
     "metadata": {
      "needs_background": "light"
     },
     "output_type": "display_data"
    }
   ],
   "source": [
    "# feature importances from random forest model\n",
    "importances = rf_reg.feature_importances_\n",
    "\n",
    "# index of greatest to least features importances\n",
    "sorted_index = np.argsort(importances)[::-1][:5]\n",
    "x = range(len(sorted_index))\n",
    "\n",
    "# create labels\n",
    "# feature_names = poly_features.get_feature_names(X.columns)\n",
    "feature_names = X.columns\n",
    "labels = np.array(feature_names)[sorted_index]\n",
    "\n",
    "# compute cumulative importances\n",
    "cum_importance = np.cumsum(importances[sorted_index])\n",
    "\n",
    "plt.bar(x, importances[sorted_index], tick_label=labels)\n",
    "plt.plot(cum_importance, c='black', linewidth=2, marker='o', label='Cumulative Importance')\n",
    "plt.xticks(rotation=90)\n",
    "plt.ylabel(\"Feature Importance\")\n",
    "plt.legend(shadow=True, loc='center right')\n",
    "plt.show()"
   ]
  },
  {
   "cell_type": "code",
   "execution_count": null,
   "metadata": {},
   "outputs": [],
   "source": []
  }
 ],
 "metadata": {
  "colab": {
   "authorship_tag": "ABX9TyNnkfQS2WhJLNHz46vNd8o7",
   "name": "Hackathon.ipynb",
   "provenance": []
  },
  "kernelspec": {
   "display_name": "Python 3",
   "language": "python",
   "name": "python3"
  },
  "language_info": {
   "codemirror_mode": {
    "name": "ipython",
    "version": 3
   },
   "file_extension": ".py",
   "mimetype": "text/x-python",
   "name": "python",
   "nbconvert_exporter": "python",
   "pygments_lexer": "ipython3",
   "version": "3.7.4"
  }
 },
 "nbformat": 4,
 "nbformat_minor": 1
}
